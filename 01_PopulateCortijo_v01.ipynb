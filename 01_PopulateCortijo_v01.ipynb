{
 "cells": [
  {
   "cell_type": "code",
   "execution_count": 1,
   "id": "67e5b461",
   "metadata": {},
   "outputs": [],
   "source": [
    "from estates import Cortijo\n",
    "from structures import Building\n",
    "from zones import Room\n",
    "from helper import GeoPoint\n",
    "\n",
    "from grapher import Graph\n",
    "from ressources_finance import Cost\n",
    "from storage import create_file, save_object, load_object"
   ]
  },
  {
   "cell_type": "markdown",
   "id": "b5ed1b48",
   "metadata": {},
   "source": [
    "### set data directory and filename"
   ]
  },
  {
   "cell_type": "code",
   "execution_count": 2,
   "id": "1d18ef4d",
   "metadata": {},
   "outputs": [],
   "source": [
    "# set project dir and name\n",
    "project_dir = 'data/'\n",
    "filename = 'LosCigarrones_v1'\n",
    "full_path = create_file(project_dir, filename)\n"
   ]
  },
  {
   "cell_type": "markdown",
   "id": "5e0da274",
   "metadata": {},
   "source": [
    "### First we want to define main aspects of the Cortijo:\n",
    "- name\n",
    "- buying price\n",
    "- land size\n",
    "- location\n",
    "- elevation"
   ]
  },
  {
   "cell_type": "code",
   "execution_count": 3,
   "id": "e75d2af5",
   "metadata": {},
   "outputs": [],
   "source": [
    "cortijo = Cortijo()\n",
    "cortijo.name = 'Los Cigarrones, Orgiva'\n",
    "cortijo.landSize = 1900        # m^2\n",
    "cortijo.location = GeoPoint(\n",
    "    36.886978,                 # latitude\n",
    "    -3.379498,                 # longitude\n",
    "    400)                       # elevation\n",
    "\n"
   ]
  },
  {
   "cell_type": "code",
   "execution_count": 4,
   "id": "79065dba",
   "metadata": {},
   "outputs": [],
   "source": [
    "# adding costs\n",
    "cortijo.add_cost('fixed', 'purchase', 75000)     # €"
   ]
  },
  {
   "cell_type": "code",
   "execution_count": 5,
   "id": "bc75f74b",
   "metadata": {},
   "outputs": [
    {
     "name": "stdout",
     "output_type": "stream",
     "text": [
      "name: Los Cigarrones, Orgiva\n",
      "children:\n",
      "cost:\n",
      "    fixed: {'purchase': 75000}€\n",
      "landSize: 1900\n",
      "location: 36.886978,-3.379498,400\n",
      "\n",
      "\n"
     ]
    },
    {
     "data": {
      "text/plain": [
       "'These values are not set: children'"
      ]
     },
     "execution_count": 5,
     "metadata": {},
     "output_type": "execute_result"
    }
   ],
   "source": [
    "cortijo.display()\n",
    "cortijo.display_missing()"
   ]
  },
  {
   "cell_type": "markdown",
   "id": "b7dad7a9",
   "metadata": {},
   "source": [
    "### Now define the structures: 2 houses\n",
    "- a stone house, and\n",
    "- a ruin"
   ]
  },
  {
   "cell_type": "code",
   "execution_count": 6,
   "id": "a370da47",
   "metadata": {},
   "outputs": [],
   "source": [
    "stoneHouse = Building()\n",
    "stoneHouse.name = 'stoneHouse'\n",
    "stoneHouse.houseSize = 54 # m^2\n",
    "stoneHouse.add_child('rooms', [\n",
    "    Room('kitchen'),\n",
    "    Room('living room'),\n",
    "    Room('private bedroom')\n",
    "])\n",
    "\n",
    "\n",
    "ruin = Building()\n",
    "ruin.name = 'ruin guest house'\n",
    "ruin.houseSize = 38 # m^2\n",
    "ruin.add_child('rooms', [\n",
    "    Room('guest bedroom 1'),\n",
    "    Room('guest bedroom 2')\n",
    "])\n"
   ]
  },
  {
   "cell_type": "code",
   "execution_count": 7,
   "id": "7d177caf",
   "metadata": {},
   "outputs": [],
   "source": [
    "# adding costs\n",
    "stoneHouse.add_cost( 'fixed', 'restoration', 5000)\n",
    "ruin.add_cost('fixed', 'restoration', 20000)"
   ]
  },
  {
   "cell_type": "code",
   "execution_count": 8,
   "id": "9a5df6b0",
   "metadata": {},
   "outputs": [
    {
     "name": "stdout",
     "output_type": "stream",
     "text": [
      "name: stoneHouse\n",
      "children:\n",
      "    rooms:\n",
      "        kitchen\n",
      "        living room\n",
      "        private bedroom\n",
      "cost:\n",
      "    fixed: {'restoration': 5000}€\n",
      "houseSize: 54\n",
      "\n",
      "\n"
     ]
    },
    {
     "data": {
      "text/plain": [
       "'All values are set.'"
      ]
     },
     "execution_count": 8,
     "metadata": {},
     "output_type": "execute_result"
    }
   ],
   "source": [
    "stoneHouse.display()\n",
    "stoneHouse.display_missing()"
   ]
  },
  {
   "cell_type": "code",
   "execution_count": 9,
   "id": "cb4d1bfc",
   "metadata": {},
   "outputs": [
    {
     "name": "stdout",
     "output_type": "stream",
     "text": [
      "name: ruin guest house\n",
      "children:\n",
      "    rooms:\n",
      "        guest bedroom 1\n",
      "        guest bedroom 2\n",
      "cost:\n",
      "    fixed: {'restoration': 20000}€\n",
      "houseSize: 38\n",
      "\n",
      "\n"
     ]
    },
    {
     "data": {
      "text/plain": [
       "'All values are set.'"
      ]
     },
     "execution_count": 9,
     "metadata": {},
     "output_type": "execute_result"
    }
   ],
   "source": [
    "ruin.display()\n",
    "ruin.display_missing()"
   ]
  },
  {
   "cell_type": "markdown",
   "id": "8a7aeac1",
   "metadata": {},
   "source": [
    "## Add the buildings to the cortijo"
   ]
  },
  {
   "cell_type": "code",
   "execution_count": 10,
   "id": "a2369fe4",
   "metadata": {},
   "outputs": [],
   "source": [
    "cortijo.add_child('structures', [stoneHouse, ruin])"
   ]
  },
  {
   "cell_type": "code",
   "execution_count": 11,
   "id": "63308df2",
   "metadata": {},
   "outputs": [
    {
     "name": "stdout",
     "output_type": "stream",
     "text": [
      "name: Los Cigarrones, Orgiva\n",
      "children:\n",
      "    structures:\n",
      "        stoneHouse\n",
      "        ruin guest house\n",
      "cost:\n",
      "    fixed: {'purchase': 75000}€\n",
      "landSize: 1900\n",
      "location: 36.886978,-3.379498,400\n",
      "\n",
      "\n"
     ]
    },
    {
     "data": {
      "text/plain": [
       "'All values are set.'"
      ]
     },
     "execution_count": 11,
     "metadata": {},
     "output_type": "execute_result"
    }
   ],
   "source": [
    "cortijo.display()\n",
    "cortijo.display_missing()"
   ]
  },
  {
   "cell_type": "markdown",
   "id": "aa7582fa",
   "metadata": {},
   "source": [
    "### Generate graph network"
   ]
  },
  {
   "cell_type": "code",
   "execution_count": 12,
   "id": "afce5dbf",
   "metadata": {},
   "outputs": [],
   "source": [
    "graph_cortijo = Graph(cortijo)"
   ]
  },
  {
   "cell_type": "code",
   "execution_count": 13,
   "id": "6478cbb1",
   "metadata": {
    "scrolled": false
   },
   "outputs": [
    {
     "data": {
      "image/png": "[encoded data removed]",
      "text/plain": [
       "<PIL.PngImagePlugin.PngImageFile image mode=RGBA size=726x452>"
      ]
     },
     "execution_count": 13,
     "metadata": {},
     "output_type": "execute_result"
    }
   ],
   "source": [
    "graph_cortijo.draw_graph(full_path, save=1)"
   ]
  },
  {
   "cell_type": "markdown",
   "id": "33cc6587",
   "metadata": {},
   "source": [
    "### Save the project"
   ]
  },
  {
   "cell_type": "code",
   "execution_count": 14,
   "id": "881fcda7",
   "metadata": {},
   "outputs": [],
   "source": [
    "save_object(cortijo, \"data.pkl\", full_path)"
   ]
  },
  {
   "cell_type": "code",
   "execution_count": null,
   "id": "e8ce6169",
   "metadata": {},
   "outputs": [],
   "source": []
  }
 ],
 "metadata": {
  "kernelspec": {
   "display_name": "SLP",
   "language": "python",
   "name": "slp"
  },
  "language_info": {
   "codemirror_mode": {
    "name": "ipython",
    "version": 3
   },
   "file_extension": ".py",
   "mimetype": "text/x-python",
   "name": "python",
   "nbconvert_exporter": "python",
   "pygments_lexer": "ipython3",
   "version": "3.10.9"
  }
 },
 "nbformat": 4,
 "nbformat_minor": 5
}
