{
 "cells": [
  {
   "cell_type": "code",
   "execution_count": 1,
   "id": "67e5b461",
   "metadata": {},
   "outputs": [],
   "source": [
    "# Import the classes from classes.py\n",
    "from Places import Cortijo\n",
    "from Buildings import Building\n",
    "from Rooms import Room\n",
    "from helper import GeoPoint"
   ]
  },
  {
   "cell_type": "markdown",
   "id": "5e0da274",
   "metadata": {},
   "source": [
    "First we want to define main aspects of the Cortijo:\n",
    "- name\n",
    "- buying price\n",
    "- land size\n",
    "- location\n",
    "- elevation"
   ]
  },
  {
   "cell_type": "code",
   "execution_count": 2,
   "id": "e75d2af5",
   "metadata": {},
   "outputs": [],
   "source": [
    "cortijo = Cortijo()\n",
    "cortijo.name = 'Los Cigarrones, Orgiva'\n",
    "cortijo.purchaseCost = 75000     # €\n",
    "cortijo.landSize = 1900        # m^2\n",
    "cortijo.location = GeoPoint(\n",
    "    36.886978,                 # latitude\n",
    "    -3.379498,                 # longitude\n",
    "    400)                       # elevation\n",
    "\n"
   ]
  },
  {
   "cell_type": "code",
   "execution_count": 3,
   "id": "bc75f74b",
   "metadata": {},
   "outputs": [
    {
     "name": "stdout",
     "output_type": "stream",
     "text": [
      "name: Los Cigarrones, Orgiva\n",
      "purchaseCost: 75000\n",
      "landSize: 1900\n",
      "location: 36.886978,-3.379498,400\n",
      "buildings:\n"
     ]
    },
    {
     "data": {
      "text/plain": [
       "'All values are set.'"
      ]
     },
     "execution_count": 3,
     "metadata": {},
     "output_type": "execute_result"
    }
   ],
   "source": [
    "cortijo.display()\n",
    "cortijo.display_missing()"
   ]
  },
  {
   "cell_type": "markdown",
   "id": "b7dad7a9",
   "metadata": {},
   "source": [
    "## Now define the House"
   ]
  },
  {
   "cell_type": "code",
   "execution_count": 4,
   "id": "a370da47",
   "metadata": {},
   "outputs": [],
   "source": [
    "stoneHouse = Building()\n",
    "stoneHouse.name = 'vivienda'\n",
    "stoneHouse.houseSize = 54 # m^2\n",
    "stoneHouse.rooms = [\n",
    "    Room('Kitchen'),\n",
    "    Room('Living Room'),\n",
    "    Room('Dormitory')\n",
    "]\n",
    "stoneHouse.buildingCost = {'restoration': 5000}"
   ]
  },
  {
   "cell_type": "code",
   "execution_count": 5,
   "id": "9a5df6b0",
   "metadata": {},
   "outputs": [
    {
     "name": "stdout",
     "output_type": "stream",
     "text": [
      "name: vivienda\n",
      "buildingCost:\n",
      "    restoration: 5000\n",
      "houseSize: 54\n",
      "rooms:\n",
      "    Kitchen\n",
      "    Living Room\n",
      "    Dormitory\n",
      "noOfRooms: 3\n"
     ]
    },
    {
     "data": {
      "text/plain": [
       "'All values are set.'"
      ]
     },
     "execution_count": 5,
     "metadata": {},
     "output_type": "execute_result"
    }
   ],
   "source": [
    "stoneHouse.display()\n",
    "stoneHouse.display_missing()"
   ]
  },
  {
   "cell_type": "markdown",
   "id": "8a7aeac1",
   "metadata": {},
   "source": [
    "## Is there a Ruin on the land as well?\n"
   ]
  },
  {
   "cell_type": "code",
   "execution_count": 6,
   "id": "a2369fe4",
   "metadata": {},
   "outputs": [],
   "source": [
    "ruin = Building()\n",
    "ruin.name = 'ruin guest house'\n",
    "ruin.houseSize = 38 # m^2\n",
    "ruin.rooms = [\n",
    "    Room('Dormitory'),\n",
    "    Room('Dormitory')\n",
    "]\n",
    "ruin.buildingCost = {'restoration': 20000}"
   ]
  },
  {
   "cell_type": "code",
   "execution_count": 7,
   "id": "63308df2",
   "metadata": {},
   "outputs": [
    {
     "name": "stdout",
     "output_type": "stream",
     "text": [
      "name: ruin guest house\n",
      "buildingCost:\n",
      "    restoration: 20000\n",
      "houseSize: 38\n",
      "rooms:\n",
      "    Dormitory\n",
      "    Dormitory\n",
      "noOfRooms: 2\n"
     ]
    },
    {
     "data": {
      "text/plain": [
       "'All values are set.'"
      ]
     },
     "execution_count": 7,
     "metadata": {},
     "output_type": "execute_result"
    }
   ],
   "source": [
    "ruin.display()\n",
    "ruin.display_missing()"
   ]
  },
  {
   "cell_type": "code",
   "execution_count": null,
   "id": "6478cbb1",
   "metadata": {},
   "outputs": [],
   "source": [
    "\n"
   ]
  },
  {
   "cell_type": "code",
   "execution_count": 8,
   "id": "36418c81",
   "metadata": {},
   "outputs": [
    {
     "data": {
      "text/plain": [
       "'12,23,23'"
      ]
     },
     "execution_count": 8,
     "metadata": {},
     "output_type": "execute_result"
    }
   ],
   "source": [
    "f\"{12},{23},{23}\""
   ]
  },
  {
   "cell_type": "code",
   "execution_count": null,
   "id": "406c17b8",
   "metadata": {},
   "outputs": [],
   "source": []
  }
 ],
 "metadata": {
  "kernelspec": {
   "display_name": "Python 3 (ipykernel)",
   "language": "python",
   "name": "python3"
  },
  "language_info": {
   "codemirror_mode": {
    "name": "ipython",
    "version": 3
   },
   "file_extension": ".py",
   "mimetype": "text/x-python",
   "name": "python",
   "nbconvert_exporter": "python",
   "pygments_lexer": "ipython3",
   "version": "3.10.9"
  }
 },
 "nbformat": 4,
 "nbformat_minor": 5
}
