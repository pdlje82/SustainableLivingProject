{
 "cells": [
  {
   "cell_type": "code",
   "execution_count": 3,
   "id": "67e5b461",
   "metadata": {},
   "outputs": [],
   "source": [
    "from grapher import Graph\n",
    "\n",
    "from Places import Cortijo\n",
    "from Buildings import Building\n",
    "from Rooms import Room\n",
    "from helper import GeoPoint"
   ]
  },
  {
   "cell_type": "markdown",
   "id": "5e0da274",
   "metadata": {},
   "source": [
    "First we want to define main aspects of the Cortijo:\n",
    "- name\n",
    "- buying price\n",
    "- land size\n",
    "- location\n",
    "- elevation"
   ]
  },
  {
   "cell_type": "code",
   "execution_count": 4,
   "id": "e75d2af5",
   "metadata": {},
   "outputs": [],
   "source": [
    "cortijo = Cortijo()\n",
    "cortijo.name = 'Los Cigarrones, Orgiva'\n",
    "cortijo.purchaseCost = 75000     # €\n",
    "cortijo.landSize = 1900        # m^2\n",
    "cortijo.location = GeoPoint(\n",
    "    36.886978,                 # latitude\n",
    "    -3.379498,                 # longitude\n",
    "    400)                       # elevation\n",
    "\n"
   ]
  },
  {
   "cell_type": "code",
   "execution_count": 5,
   "id": "bc75f74b",
   "metadata": {},
   "outputs": [
    {
     "name": "stdout",
     "output_type": "stream",
     "text": [
      "name: Los Cigarrones, Orgiva\n",
      "children:\n",
      "    buildings:\n",
      "purchaseCost: 75000\n",
      "landSize: 1900\n",
      "location: 36.886978,-3.379498,400\n",
      "\n",
      "\n"
     ]
    },
    {
     "data": {
      "text/plain": [
       "'All values are set.'"
      ]
     },
     "execution_count": 5,
     "metadata": {},
     "output_type": "execute_result"
    }
   ],
   "source": [
    "cortijo.display()\n",
    "cortijo.display_missing()"
   ]
  },
  {
   "cell_type": "markdown",
   "id": "b7dad7a9",
   "metadata": {},
   "source": [
    "## Now define the houses\n",
    "- a stone house, and\n",
    "- a ruin"
   ]
  },
  {
   "cell_type": "code",
   "execution_count": 6,
   "id": "a370da47",
   "metadata": {},
   "outputs": [],
   "source": [
    "stoneHouse = Building()\n",
    "stoneHouse.name = 'stoneHouse'\n",
    "stoneHouse.houseSize = 54 # m^2\n",
    "stoneHouse.rooms = [\n",
    "    Room('kitchen'),\n",
    "    Room('living room'),\n",
    "    Room('private bedroom')\n",
    "]\n",
    "stoneHouse.buildingCost = {'restoration': 5000}\n",
    "\n",
    "ruin = Building()\n",
    "ruin.name = 'ruin guest house'\n",
    "ruin.houseSize = 38 # m^2\n",
    "ruin.rooms = [\n",
    "    Room('guest bedroom 1'),\n",
    "    Room('guest bedroom 2')\n",
    "]\n",
    "ruin.buildingCost = {'restoration': 20000}"
   ]
  },
  {
   "cell_type": "code",
   "execution_count": null,
   "id": "20e05d08",
   "metadata": {},
   "outputs": [],
   "source": []
  },
  {
   "cell_type": "code",
   "execution_count": 7,
   "id": "9a5df6b0",
   "metadata": {},
   "outputs": [
    {
     "name": "stdout",
     "output_type": "stream",
     "text": [
      "name: stoneHouse\n",
      "children:\n",
      "    rooms:\n",
      "        kitchen\n",
      "        living room\n",
      "        private bedroom\n",
      "    heating:\n",
      "    water system:\n",
      "houseSize: 54\n",
      "noOfRooms: 3\n",
      "\n",
      "\n"
     ]
    },
    {
     "data": {
      "text/plain": [
       "'These values are not set: heating, water system'"
      ]
     },
     "execution_count": 7,
     "metadata": {},
     "output_type": "execute_result"
    }
   ],
   "source": [
    "stoneHouse.display()\n",
    "stoneHouse.display_missing()"
   ]
  },
  {
   "cell_type": "code",
   "execution_count": 8,
   "id": "cb4d1bfc",
   "metadata": {},
   "outputs": [
    {
     "name": "stdout",
     "output_type": "stream",
     "text": [
      "name: ruin guest house\n",
      "children:\n",
      "    rooms:\n",
      "        guest bedroom 1\n",
      "        guest bedroom 2\n",
      "    heating:\n",
      "    water system:\n",
      "houseSize: 38\n",
      "noOfRooms: 2\n",
      "\n",
      "\n"
     ]
    },
    {
     "data": {
      "text/plain": [
       "'These values are not set: heating, water system'"
      ]
     },
     "execution_count": 8,
     "metadata": {},
     "output_type": "execute_result"
    }
   ],
   "source": [
    "ruin.display()\n",
    "ruin.display_missing()"
   ]
  },
  {
   "cell_type": "markdown",
   "id": "8a7aeac1",
   "metadata": {},
   "source": [
    "## Add the buildings to the cortijo"
   ]
  },
  {
   "cell_type": "code",
   "execution_count": 9,
   "id": "a2369fe4",
   "metadata": {},
   "outputs": [],
   "source": [
    "cortijo.buildings = [stoneHouse, ruin]"
   ]
  },
  {
   "cell_type": "code",
   "execution_count": 10,
   "id": "63308df2",
   "metadata": {},
   "outputs": [
    {
     "name": "stdout",
     "output_type": "stream",
     "text": [
      "name: Los Cigarrones, Orgiva\n",
      "children:\n",
      "    buildings:\n",
      "purchaseCost: 75000\n",
      "landSize: 1900\n",
      "location: 36.886978,-3.379498,400\n",
      "buildings:\n",
      "    stoneHouse\n",
      "    ruin guest house\n",
      "\n",
      "\n"
     ]
    },
    {
     "data": {
      "text/plain": [
       "'All values are set.'"
      ]
     },
     "execution_count": 10,
     "metadata": {},
     "output_type": "execute_result"
    }
   ],
   "source": [
    "cortijo.display()\n",
    "cortijo.display_missing()"
   ]
  },
  {
   "cell_type": "markdown",
   "id": "aa7582fa",
   "metadata": {},
   "source": [
    "## Initalize graph network"
   ]
  },
  {
   "cell_type": "code",
   "execution_count": 11,
   "id": "afce5dbf",
   "metadata": {},
   "outputs": [],
   "source": [
    "graph_cortijo = Graph(cortijo)"
   ]
  },
  {
   "cell_type": "code",
   "execution_count": 12,
   "id": "6478cbb1",
   "metadata": {
    "scrolled": false
   },
   "outputs": [
    {
     "ename": "AttributeError",
     "evalue": "'list' object has no attribute 'name'",
     "output_type": "error",
     "traceback": [
      "\u001b[1;31m---------------------------------------------------------------------------\u001b[0m",
      "\u001b[1;31mAttributeError\u001b[0m                            Traceback (most recent call last)",
      "Cell \u001b[1;32mIn[12], line 1\u001b[0m\n\u001b[1;32m----> 1\u001b[0m \u001b[43mgraph_cortijo\u001b[49m\u001b[38;5;241;43m.\u001b[39;49m\u001b[43mdraw_graph\u001b[49m\u001b[43m(\u001b[49m\u001b[43m)\u001b[49m\n",
      "File \u001b[1;32mE:\\GDrive\\!SustainableLivingProject\\grapher.py:21\u001b[0m, in \u001b[0;36mGraph.draw_graph\u001b[1;34m(self)\u001b[0m\n\u001b[0;32m     19\u001b[0m \u001b[38;5;28mself\u001b[39m\u001b[38;5;241m.\u001b[39mG\u001b[38;5;241m.\u001b[39madd_edge(\u001b[38;5;28mself\u001b[39m\u001b[38;5;241m.\u001b[39mcortijo\u001b[38;5;241m.\u001b[39mname, child_type_node)\n\u001b[0;32m     20\u001b[0m \u001b[38;5;28;01mfor\u001b[39;00m child \u001b[38;5;129;01min\u001b[39;00m children:\n\u001b[1;32m---> 21\u001b[0m     \u001b[38;5;28mself\u001b[39m\u001b[38;5;241m.\u001b[39mG\u001b[38;5;241m.\u001b[39madd_node(\u001b[43mchild\u001b[49m\u001b[38;5;241;43m.\u001b[39;49m\u001b[43mname\u001b[49m)\n\u001b[0;32m     22\u001b[0m     \u001b[38;5;28mself\u001b[39m\u001b[38;5;241m.\u001b[39mG\u001b[38;5;241m.\u001b[39madd_edge(child_type_node, child\u001b[38;5;241m.\u001b[39mname)\n\u001b[0;32m     23\u001b[0m     \u001b[38;5;28;01mfor\u001b[39;00m subchild_type, subchildren \u001b[38;5;129;01min\u001b[39;00m child\u001b[38;5;241m.\u001b[39m_children\u001b[38;5;241m.\u001b[39mitems():\n",
      "\u001b[1;31mAttributeError\u001b[0m: 'list' object has no attribute 'name'"
     ]
    }
   ],
   "source": [
    "graph_cortijo.draw_graph()"
   ]
  },
  {
   "cell_type": "code",
   "execution_count": null,
   "id": "406c17b8",
   "metadata": {},
   "outputs": [],
   "source": []
  },
  {
   "cell_type": "code",
   "execution_count": null,
   "id": "881fcda7",
   "metadata": {},
   "outputs": [],
   "source": []
  }
 ],
 "metadata": {
  "kernelspec": {
   "display_name": "SLP",
   "language": "python",
   "name": "slp"
  },
  "language_info": {
   "codemirror_mode": {
    "name": "ipython",
    "version": 3
   },
   "file_extension": ".py",
   "mimetype": "text/x-python",
   "name": "python",
   "nbconvert_exporter": "python",
   "pygments_lexer": "ipython3",
   "version": "3.10.9"
  }
 },
 "nbformat": 4,
 "nbformat_minor": 5
}
